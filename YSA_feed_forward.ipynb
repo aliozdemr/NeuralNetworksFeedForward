{
 "cells": [
  {
   "cell_type": "code",
   "execution_count": 1,
   "id": "c9673b33-09dc-4a89-843c-1e7e49d43167",
   "metadata": {},
   "outputs": [],
   "source": [
    "def tanh_func(x):\n",
    "    return (torch.exp(x)-torch.exp(-x))/(torch.exp(x)+torch.exp(-x))"
   ]
  },
  {
   "cell_type": "code",
   "execution_count": 2,
   "id": "98b5c44b-9061-4f34-9e94-c33ed618aa79",
   "metadata": {},
   "outputs": [],
   "source": [
    "def sigmoid_activation(x):\n",
    "    return 1 / (1 + torch.exp(-x))"
   ]
  },
  {
   "cell_type": "code",
   "execution_count": 8,
   "id": "c73d9e4f-449a-4b84-98cd-2beb2ac5ce9d",
   "metadata": {},
   "outputs": [],
   "source": [
    "import torch\n",
    "\n",
    "# iki örnek var 3 öznitelik var yapay sinir ağımızı bundan dolayı 3 input olacak şekilde kurduk.\n",
    "x = torch.tensor([[1.0,2.0,3.0],[4.0,5.0,6.0]])"
   ]
  },
  {
   "cell_type": "code",
   "execution_count": 12,
   "id": "c619a8e0-bd92-4b55-a9de-8de968fdeef7",
   "metadata": {},
   "outputs": [
    {
     "name": "stdout",
     "output_type": "stream",
     "text": [
      " Birinci sample([1,2,3]) için: tensor([[0.4455]]) \n",
      " İkinci  sample([4,5,6]) için: tensor([[0.5609]])\n"
     ]
    }
   ],
   "source": [
    "def feed_forward_three_inputs(x):\n",
    "    torch.manual_seed(1)\n",
    "    \n",
    "    # 3 inputumuz ve hidden layer'da 50 nöronumuz olduğu için 50 satırlı 3 sutünlu bir tensör oluşturduk.\n",
    "    weight1=torch.randn(50,3)\n",
    "    # Hidden layer katmanındaki her bir nöron için bir tane bias değeri oluşturduk.\n",
    "    bias1=torch.randn(50,1)\n",
    "    \n",
    "    # Hidden layderdaki nöronların outpularını output layer'a gönderirken kullanacağımız ağırlıkları oluşturduk.\n",
    "    weight2=torch.randn(1,50)\n",
    "    # Output nöronu için bias değeri oluşturduk\n",
    "    bias2=torch.rand(1,1)\n",
    "    \n",
    "    # 50 ye 3 lük tensörün her satırını input değerlerimizle karşılıkla çarpıp topladık, üzerine bias değerini ekledik.\n",
    "    # böylece 50 ye 1 lik bir tensör oluştu.\n",
    "    tmp1=torch.matmul(weight1,(x.reshape(-1,1)))+bias1\n",
    "    # aktivasyon fonksiyonuna soktuk çıktılarını output nöronuna göndermek için \"hidden_layer_outputs\" değişkenine atadık\n",
    "    hidden_layer_outputs=tanh_func(tmp1)\n",
    "    \n",
    "    # hidden layer dan gelen tensörü yukarıda random oluşturduğumuz ağırlıklarla işleme soktuk\n",
    "    tmp2=torch.matmul(weight2,hidden_layer_outputs)+bias2\n",
    "    # output nöronuna gelen değeri aktivasyon fonksiyonuna sokup return ettik.\n",
    "    return sigmoid_activation(tmp2)\n",
    "print(\" Birinci sample([1,2,3]) için:\",feed_forward_three_inputs(x[0]), \"\\n İkinci  sample([4,5,6]) için:\",feed_forward_three_inputs(x[1]))"
   ]
  },
  {
   "cell_type": "code",
   "execution_count": null,
   "id": "cf63f9e3-eadb-48c8-b8d2-769a714db573",
   "metadata": {},
   "outputs": [],
   "source": []
  }
 ],
 "metadata": {
  "kernelspec": {
   "display_name": "Python 3 (ipykernel)",
   "language": "python",
   "name": "python3"
  },
  "language_info": {
   "codemirror_mode": {
    "name": "ipython",
    "version": 3
   },
   "file_extension": ".py",
   "mimetype": "text/x-python",
   "name": "python",
   "nbconvert_exporter": "python",
   "pygments_lexer": "ipython3",
   "version": "3.9.13"
  }
 },
 "nbformat": 4,
 "nbformat_minor": 5
}
